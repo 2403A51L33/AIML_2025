{
  "cells": [
    {
      "cell_type": "markdown",
      "metadata": {
        "id": "view-in-github",
        "colab_type": "text"
      },
      "source": [
        "<a href=\"https://colab.research.google.com/github/2403A51L33/AIML_2025/blob/main/Lab01.ipynb\" target=\"_parent\"><img src=\"https://colab.research.google.com/assets/colab-badge.svg\" alt=\"Open In Colab\"/></a>"
      ]
    },
    {
      "cell_type": "markdown",
      "metadata": {
        "id": "JZbw9tL0kFUE"
      },
      "source": [
        "## Lab -01: Introduction to Python, matplotlib, Numpy"
      ]
    },
    {
      "cell_type": "markdown",
      "metadata": {
        "id": "FKotf-qMkR8D"
      },
      "source": [
        "**Part 1: Implement basic data strcutures using Numpy, Pandas**"
      ]
    },
    {
      "cell_type": "code",
      "execution_count": null,
      "metadata": {
        "id": "2B76iy-2m9UD"
      },
      "outputs": [],
      "source": [
        "import numpy as np\n",
        "import matplotlib.pyplot as plt\n",
        "import pandas as pd"
      ]
    },
    {
      "cell_type": "code",
      "execution_count": null,
      "metadata": {
        "id": "LeS_SGt2kqUr"
      },
      "outputs": [],
      "source": [
        "## Create a list, array\n",
        "list1 = [1,2,3,4]\n",
        "array1  = np.array(list1)\n",
        "array1\n",
        "array2 = np.array([1,2,3,4])\n",
        "list1, array1, array2"
      ]
    },
    {
      "cell_type": "code",
      "execution_count": null,
      "metadata": {
        "id": "tAQe2IANn5_J"
      },
      "outputs": [],
      "source": [
        "## Identify the type of Data structure\n",
        "type(list1), type(array1), type(array2)"
      ]
    },
    {
      "cell_type": "code",
      "execution_count": null,
      "metadata": {
        "id": "DeuwTBsEoSuH"
      },
      "outputs": [],
      "source": [
        "## Perform Mathematical operations on arrays, lists\n",
        "print(\"Adding two arrays:\", array1 + array2)\n",
        "print(\"Subtracting two arrays: array1 - array2\")\n",
        "print(\"Multiplying two arrays: array1 * array2\")\n",
        "print(\"Dividing two arrays: array1 / array2)\")\n",
        "print(\"Exponentiating two arrays: array1 ** array2\")\n",
        "print(\"Multiply array to list: array2 * list1\")"
      ]
    },
    {
      "cell_type": "code",
      "execution_count": null,
      "metadata": {
        "id": "1Dy2FHn6pO6j"
      },
      "outputs": [],
      "source": [
        "# Combine text with Numpy function\n",
        "print(f\"Adding {array1} with {array2}\")\n",
        "print(f\"Result: {np.add(array1, array2)}\")"
      ]
    },
    {
      "cell_type": "code",
      "execution_count": null,
      "metadata": {
        "id": "djPmE1Gyq9Pk"
      },
      "outputs": [],
      "source": [
        "# Find the Sin, Log, Log2, Exp values\n",
        "print(f\"Sine value of array1:{np.sin(array1)}\")\n",
        "print(f\"Log value of array1:{np.log(array1)}\")\n",
        "print(f\"Log base 2 value of array1:{np.log2(array1)}\")\n",
        "print(f\"Log base 10 value of array1:{np.log10(array1)}\")\n",
        "print(f\"Exponential value of array1:{np.exp(array1)}\")"
      ]
    },
    {
      "cell_type": "markdown",
      "metadata": {
        "id": "UDvFQ0pxTqPJ"
      },
      "source": [
        "## Part 02: Visualize the data using Matplotlib, pyplot Libraries"
      ]
    },
    {
      "cell_type": "code",
      "execution_count": null,
      "metadata": {
        "id": "f3UERYcqT1T2"
      },
      "outputs": [],
      "source": [
        "import matplotlib.pyplot as plt"
      ]
    },
    {
      "cell_type": "code",
      "execution_count": null,
      "metadata": {
        "id": "s20ZzSB4UAJK"
      },
      "outputs": [],
      "source": [
        "#Create the data\n",
        "people = ['kiran', 'arun', 'vijay', 'varun', \"vikas\"]\n",
        "age =[25, 30, 35, 40, 45]\n",
        "height =[145, 151, 165, 173, 190]\n",
        "weight=[45, 55, 65, 75, 90]"
      ]
    },
    {
      "cell_type": "code",
      "execution_count": null,
      "metadata": {
        "id": "fD7F93YrUerR"
      },
      "outputs": [],
      "source": [
        "#Generate a scatter plot.\n",
        "# Find the relationship between Age and Height\n",
        "\n",
        "plt.scatter(age, height)\n",
        "plt.xlabel('Age')\n",
        "plt.ylabel('Height')\n",
        "plt.title('Age vs Height')\n",
        "plt.show()"
      ]
    },
    {
      "cell_type": "code",
      "execution_count": null,
      "metadata": {
        "id": "PeOlL-4TVkeZ"
      },
      "outputs": [],
      "source": [
        "#Genrate Bar Chart\n",
        "#Generate the bar Chart for Height.\n",
        "plt.figure(figsize=(5,4))\n",
        "plt.bar(people, height)\n",
        "plt.xlabel('People')\n",
        "plt.ylabel('Height')\n",
        "plt.title('Height of People')\n",
        "plt.show()\n",
        "save = plt.savefig('bar_chart.png')"
      ]
    },
    {
      "cell_type": "code",
      "execution_count": null,
      "metadata": {
        "id": "iSMjzw96dHBo"
      },
      "outputs": [],
      "source": []
    }
  ],
  "metadata": {
    "colab": {
      "provenance": [],
      "include_colab_link": true
    },
    "kernelspec": {
      "display_name": "Python 3 (ipykernel)",
      "language": "python",
      "name": "python3"
    },
    "language_info": {
      "codemirror_mode": {
        "name": "ipython",
        "version": 3
      },
      "file_extension": ".py",
      "mimetype": "text/x-python",
      "name": "python",
      "nbconvert_exporter": "python",
      "pygments_lexer": "ipython3",
      "version": "3.12.3"
    }
  },
  "nbformat": 4,
  "nbformat_minor": 0
}